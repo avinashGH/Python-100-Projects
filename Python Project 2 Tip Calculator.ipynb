{
 "cells": [
  {
   "cell_type": "markdown",
   "id": "7e3bd1e0",
   "metadata": {},
   "source": [
    "## Data Types, Numbers, Operations, Type Conversion, f-strings"
   ]
  },
  {
   "cell_type": "markdown",
   "id": "1faac727",
   "metadata": {},
   "source": [
    "* Python Primitive Data Types"
   ]
  },
  {
   "cell_type": "markdown",
   "id": "2c5cdbc8",
   "metadata": {},
   "source": [
    "* String"
   ]
  },
  {
   "cell_type": "code",
   "execution_count": 1,
   "id": "5b348454",
   "metadata": {},
   "outputs": [
    {
     "name": "stdout",
     "output_type": "stream",
     "text": [
      "H\n"
     ]
    }
   ],
   "source": [
    "print('Hello'[0])  ## Callled Subscript"
   ]
  },
  {
   "cell_type": "code",
   "execution_count": 2,
   "id": "11a6db63",
   "metadata": {},
   "outputs": [
    {
     "name": "stdout",
     "output_type": "stream",
     "text": [
      "1234456\n"
     ]
    }
   ],
   "source": [
    "print('1234'+'456')"
   ]
  },
  {
   "cell_type": "markdown",
   "id": "6fbd5243",
   "metadata": {},
   "source": [
    "* Integer"
   ]
  },
  {
   "cell_type": "code",
   "execution_count": 3,
   "id": "7de4c633",
   "metadata": {},
   "outputs": [
    {
     "name": "stdout",
     "output_type": "stream",
     "text": [
      "1690\n"
     ]
    }
   ],
   "source": [
    "print(1234+456)"
   ]
  },
  {
   "cell_type": "code",
   "execution_count": 4,
   "id": "587ea828",
   "metadata": {},
   "outputs": [
    {
     "data": {
      "text/plain": [
       "1234456"
      ]
     },
     "execution_count": 4,
     "metadata": {},
     "output_type": "execute_result"
    }
   ],
   "source": [
    "1234_456"
   ]
  },
  {
   "cell_type": "markdown",
   "id": "8eb88097",
   "metadata": {},
   "source": [
    "* Float"
   ]
  },
  {
   "cell_type": "code",
   "execution_count": 5,
   "id": "dea01b80",
   "metadata": {},
   "outputs": [
    {
     "data": {
      "text/plain": [
       "3.456"
      ]
     },
     "execution_count": 5,
     "metadata": {},
     "output_type": "execute_result"
    }
   ],
   "source": [
    "3.456"
   ]
  },
  {
   "cell_type": "markdown",
   "id": "063bd599",
   "metadata": {},
   "source": [
    "* Boolean"
   ]
  },
  {
   "cell_type": "code",
   "execution_count": 6,
   "id": "401f320e",
   "metadata": {},
   "outputs": [
    {
     "data": {
      "text/plain": [
       "False"
      ]
     },
     "execution_count": 6,
     "metadata": {},
     "output_type": "execute_result"
    }
   ],
   "source": [
    "True\n",
    "False"
   ]
  },
  {
   "cell_type": "markdown",
   "id": "f7649e62",
   "metadata": {},
   "source": [
    "* Check Data Type: type()"
   ]
  },
  {
   "cell_type": "code",
   "execution_count": 7,
   "id": "e1071b11",
   "metadata": {},
   "outputs": [
    {
     "data": {
      "text/plain": [
       "str"
      ]
     },
     "execution_count": 7,
     "metadata": {},
     "output_type": "execute_result"
    }
   ],
   "source": [
    "type(\"Name\")"
   ]
  },
  {
   "cell_type": "markdown",
   "id": "405e4890",
   "metadata": {},
   "source": [
    "* Conversion: str(), int(),float()"
   ]
  },
  {
   "cell_type": "code",
   "execution_count": 8,
   "id": "64f1ed69",
   "metadata": {},
   "outputs": [
    {
     "name": "stdout",
     "output_type": "stream",
     "text": [
      "What is your name\n",
      "Avinash\n",
      "Your name has 7 Charcters\n"
     ]
    }
   ],
   "source": [
    "num_char = len(input(\"What is your name\\n\"))\n",
    "num_char = str(num_char)\n",
    "print(\"Your name has \"+num_char+\" Charcters\")"
   ]
  },
  {
   "cell_type": "code",
   "execution_count": 10,
   "id": "9f940572",
   "metadata": {},
   "outputs": [
    {
     "name": "stdout",
     "output_type": "stream",
     "text": [
      "86.0\n"
     ]
    }
   ],
   "source": [
    "print(30+float(\"56\"))"
   ]
  },
  {
   "cell_type": "code",
   "execution_count": 11,
   "id": "3134a8ea",
   "metadata": {},
   "outputs": [
    {
     "name": "stdout",
     "output_type": "stream",
     "text": [
      "3056\n"
     ]
    }
   ],
   "source": [
    "print(\"30\"+\"56\")"
   ]
  },
  {
   "cell_type": "markdown",
   "id": "6f367f30",
   "metadata": {},
   "source": [
    "#### Instructions:\n",
    "Write a program that adds the digits in a 2 digit number. e.g. if the input was 35, then the output should be 3 + 5 = 8\n"
   ]
  },
  {
   "cell_type": "code",
   "execution_count": 14,
   "id": "f44d25f5",
   "metadata": {},
   "outputs": [
    {
     "name": "stdout",
     "output_type": "stream",
     "text": [
      "Type a two digit number: 35\n",
      "8\n"
     ]
    }
   ],
   "source": [
    "# 🚨 Don't change the code below 👇\n",
    "two_digit_number = input(\"Type a two digit number: \")\n",
    "# 🚨 Don't change the code above 👆\n",
    "\n",
    "####################################\n",
    "#Write your code below this line 👇\n",
    "print(int(str(two_digit_number)[0]) + int(str(two_digit_number)[1]))"
   ]
  },
  {
   "cell_type": "markdown",
   "id": "65d3bcd2",
   "metadata": {},
   "source": [
    "* Mathematical operations in Python: +,-,* ,/,** \n",
    "_after division always floating number_"
   ]
  },
  {
   "cell_type": "markdown",
   "id": "7c19ea52",
   "metadata": {},
   "source": [
    "#### Instructions\n",
    "Write a program that calculates the Body Mass Index (BMI) from a user's weight and height.\n",
    "\n",
    "The BMI is a measure of some's weight taking into account their height. e.g. If a tall person and a short person both weigh the same amount, the short person is usually more overweight.\n",
    "\n",
    "The BMI is calculated by dividing a person's weight (in kg) by the square of their height (in m):"
   ]
  },
  {
   "cell_type": "code",
   "execution_count": 16,
   "id": "795f468e",
   "metadata": {},
   "outputs": [
    {
     "name": "stdout",
     "output_type": "stream",
     "text": [
      "enter your height in m: 1.725\n",
      "enter your weight in kg: 87\n",
      "Your BMI is 29\n"
     ]
    }
   ],
   "source": [
    "# 🚨 Don't change the code below 👇\n",
    "height = input(\"enter your height in m: \")\n",
    "weight = input(\"enter your weight in kg: \")\n",
    "# 🚨 Don't change the code above 👆\n",
    "\n",
    "#Write your code below this line 👇\n",
    "height = float(height)\n",
    "weight = float(weight)\n",
    "BMI = weight/(height ** 2)\n",
    "print(\"Your BMI is \" + str(int(BMI)))"
   ]
  },
  {
   "cell_type": "markdown",
   "id": "249d0fe1",
   "metadata": {},
   "source": [
    "* Number Manipulation and F-string in Python"
   ]
  },
  {
   "cell_type": "code",
   "execution_count": 17,
   "id": "934fb51e",
   "metadata": {},
   "outputs": [
    {
     "name": "stdout",
     "output_type": "stream",
     "text": [
      "3\n"
     ]
    }
   ],
   "source": [
    "## round()\n",
    "print(round(8/3))"
   ]
  },
  {
   "cell_type": "code",
   "execution_count": 18,
   "id": "bd3fe271",
   "metadata": {},
   "outputs": [
    {
     "name": "stdout",
     "output_type": "stream",
     "text": [
      "2.67\n"
     ]
    }
   ],
   "source": [
    "print(round(8/3,2))"
   ]
  },
  {
   "cell_type": "code",
   "execution_count": 22,
   "id": "802d7fa3",
   "metadata": {},
   "outputs": [
    {
     "name": "stdout",
     "output_type": "stream",
     "text": [
      "2\n"
     ]
    }
   ],
   "source": [
    "print(8//3) ##chopped off decimal and gives int rather than float"
   ]
  },
  {
   "cell_type": "code",
   "execution_count": 23,
   "id": "d43fd96a",
   "metadata": {},
   "outputs": [
    {
     "name": "stdout",
     "output_type": "stream",
     "text": [
      "1.0\n"
     ]
    }
   ],
   "source": [
    "result = 4/2\n",
    "result /= 2\n",
    "print(result)"
   ]
  },
  {
   "cell_type": "markdown",
   "id": "8a2db66f",
   "metadata": {},
   "source": [
    "* (+=),(-=),(*=),(/=) do the calculation and then assign the result to same variable"
   ]
  },
  {
   "cell_type": "markdown",
   "id": "be4014c4",
   "metadata": {},
   "source": [
    "### F-string: Makes easy mix string & different data type"
   ]
  },
  {
   "cell_type": "code",
   "execution_count": 27,
   "id": "bd9ca594",
   "metadata": {},
   "outputs": [
    {
     "name": "stdout",
     "output_type": "stream",
     "text": [
      "Your score is 0, your height is 1.72, you are winning is True\n"
     ]
    }
   ],
   "source": [
    "score = 0\n",
    "height = 1.72\n",
    "IsWinning = True\n",
    "print(f\"Your score is {score}, your height is {height}, you are winning is {IsWinning}\")"
   ]
  },
  {
   "cell_type": "markdown",
   "id": "bedc5c34",
   "metadata": {},
   "source": [
    "* Your Life in Weeks"
   ]
  },
  {
   "cell_type": "markdown",
   "id": "450575ab",
   "metadata": {},
   "source": [
    "#### Instructions\n",
    "I was reading this article by Tim Urban - Your Life in Weeks and realised just how little time we actually have.\n",
    "\n",
    "https://waitbutwhy.com/2014/05/life-weeks.html\n",
    "\n",
    "Create a program using maths and f-Strings that tells us how many days, weeks, months we have left if we live until 90 years old.\n",
    "\n",
    "It will take your current age as the input and output a message with our time left in this format:\n",
    "\n",
    "You have x days, y weeks, and z months left.\n",
    "\n",
    "Where x, y and z are replaced with the actual calculated numbers."
   ]
  },
  {
   "cell_type": "code",
   "execution_count": 29,
   "id": "4b26af2e",
   "metadata": {},
   "outputs": [
    {
     "name": "stdout",
     "output_type": "stream",
     "text": [
      "What is your current age?28\n",
      "You have 22630 days, 3224 weeks, and 744 months left\n"
     ]
    }
   ],
   "source": [
    "# 🚨 Don't change the code below 👇\n",
    "age = input(\"What is your current age?\")\n",
    "# 🚨 Don't change the code above 👆\n",
    "\n",
    "#Write your code below this line 👇\n",
    "Year_left = 90 - int(age)\n",
    "Month_left = Year_left * 12\n",
    "Week_left = Year_left * 52\n",
    "Days_left = Year_left * 365\n",
    "print(f\"You have {Days_left} days, {Week_left} weeks, and {Month_left} months left\")"
   ]
  },
  {
   "cell_type": "markdown",
   "id": "f958d3c6",
   "metadata": {},
   "source": [
    "### Tip Calculator"
   ]
  },
  {
   "cell_type": "markdown",
   "id": "f8b94426",
   "metadata": {},
   "source": [
    "##### Instructions\n",
    "If the bill was $150.00, split between 5 people, with 12% tip.\n",
    "\n",
    "Each person should pay (150.00 / 5) * 1.12 = 33.6\n",
    "\n",
    "Format the result to 2 decimal places = 33.60\n",
    "\n",
    "Thus everyone's share of the total bill is $30.00 plus a $3.60 tip.\n",
    "\n",
    "Tip: There are 2 ways to round a number. You might have to do some Googling to solve this.💪"
   ]
  },
  {
   "cell_type": "code",
   "execution_count": 31,
   "id": "d2e33af2",
   "metadata": {},
   "outputs": [
    {
     "name": "stdout",
     "output_type": "stream",
     "text": [
      "Welcome to the tip Calculator\n",
      "What was the total bill?\n",
      "785\n",
      "What percentage tip was given?\n",
      "10\n",
      "How many people to split the bill?\n",
      "3\n",
      "Each person should pay: 287.83\n"
     ]
    }
   ],
   "source": [
    "print(\"Welcome to the tip Calculator\")\n",
    "Total_bill = input(\"What was the total bill?\\n\")\n",
    "Tip = input(\"What percentage tip was given?\\n\")\n",
    "No_ppl = input(\"How many people to split the bill?\\n\")\n",
    "Total_bill_tip = float(Total_bill) * (1 + float(Tip)/100)\n",
    "Split = Total_bill_tip / int(No_ppl)\n",
    "print(f\"Each person should pay: {round(Split,2)}\")"
   ]
  },
  {
   "cell_type": "code",
   "execution_count": null,
   "id": "bdca0c1b",
   "metadata": {},
   "outputs": [],
   "source": []
  },
  {
   "cell_type": "code",
   "execution_count": null,
   "id": "52295dcd",
   "metadata": {},
   "outputs": [],
   "source": []
  }
 ],
 "metadata": {
  "kernelspec": {
   "display_name": "Python 3 (ipykernel)",
   "language": "python",
   "name": "python3"
  },
  "language_info": {
   "codemirror_mode": {
    "name": "ipython",
    "version": 3
   },
   "file_extension": ".py",
   "mimetype": "text/x-python",
   "name": "python",
   "nbconvert_exporter": "python",
   "pygments_lexer": "ipython3",
   "version": "3.9.13"
  }
 },
 "nbformat": 4,
 "nbformat_minor": 5
}
