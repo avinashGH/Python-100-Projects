{
 "cells": [
  {
   "cell_type": "markdown",
   "id": "0ef74444",
   "metadata": {},
   "source": [
    "* For sting use \"\" or ''  `Python reads both as same` \n",
    "* New line inside print: \\n\n",
    "* Concate String: +"
   ]
  },
  {
   "cell_type": "code",
   "execution_count": 1,
   "id": "df6651cc",
   "metadata": {},
   "outputs": [
    {
     "name": "stdout",
     "output_type": "stream",
     "text": [
      "This is 'Project 1'\n"
     ]
    }
   ],
   "source": [
    "print(\"This is 'Project 1'\")"
   ]
  },
  {
   "cell_type": "code",
   "execution_count": 2,
   "id": "b132a746",
   "metadata": {},
   "outputs": [
    {
     "name": "stdout",
     "output_type": "stream",
     "text": [
      "Welcome to the Project 1\n",
      "We will explore about project soon\n"
     ]
    }
   ],
   "source": [
    "print(\"Welcome to the Project 1\\nWe will explore about project soon\")"
   ]
  },
  {
   "cell_type": "code",
   "execution_count": 4,
   "id": "ab330e8f",
   "metadata": {},
   "outputs": [
    {
     "name": "stdout",
     "output_type": "stream",
     "text": [
      "Project 1 So far covered three codes\n"
     ]
    }
   ],
   "source": [
    "print(\"Project 1\"+ \" \"+ \"So far covered three codes\")"
   ]
  },
  {
   "cell_type": "markdown",
   "id": "a357925b",
   "metadata": {},
   "source": [
    "* Debugging\n",
    "* Python Input Function: input(\"A prompt for the user\")"
   ]
  },
  {
   "cell_type": "code",
   "execution_count": 8,
   "id": "f841fe35",
   "metadata": {},
   "outputs": [
    {
     "name": "stdout",
     "output_type": "stream",
     "text": [
      "What's your name ?Rock\n",
      "Hello Rock\n"
     ]
    }
   ],
   "source": [
    "print(\"Hello\" +\" \"+ input(\"What's your name ?\"))"
   ]
  },
  {
   "cell_type": "markdown",
   "id": "84e22ad4",
   "metadata": {},
   "source": [
    "* Write a program which prints the number of character in a user's name"
   ]
  },
  {
   "cell_type": "code",
   "execution_count": 12,
   "id": "ff48e7ba",
   "metadata": {},
   "outputs": [
    {
     "name": "stdout",
     "output_type": "stream",
     "text": [
      "To get the number character from your name, please write it. Avinash\n",
      "7\n"
     ]
    }
   ],
   "source": [
    "print( len( input(\"To get the number character from your name, please write it. \") ) )"
   ]
  },
  {
   "cell_type": "markdown",
   "id": "5a0b30c0",
   "metadata": {},
   "source": [
    "* Python Variables"
   ]
  },
  {
   "cell_type": "code",
   "execution_count": 13,
   "id": "3e1f298b",
   "metadata": {},
   "outputs": [
    {
     "name": "stdout",
     "output_type": "stream",
     "text": [
      "What's your name? Avinash\n",
      "Avinash\n"
     ]
    }
   ],
   "source": [
    "name = input(\"What's your name? \")\n",
    "print(name)"
   ]
  },
  {
   "cell_type": "code",
   "execution_count": 15,
   "id": "c319af38",
   "metadata": {},
   "outputs": [
    {
     "name": "stdout",
     "output_type": "stream",
     "text": [
      "a: 23\n",
      "b: 54\n",
      "a: 54\n",
      "b: 23\n"
     ]
    }
   ],
   "source": [
    "# 🚨 Don't change the code below 👇\n",
    "a = input(\"a: \")\n",
    "b = input(\"b: \")\n",
    "# 🚨 Don't change the code above 👆\n",
    "\n",
    "####################################\n",
    "#Write your code below this line 👇bb\n",
    "c = b\n",
    "b = a\n",
    "a = c\n",
    "\n",
    "#Write your code above this line 👆\n",
    "####################################\n",
    "\n",
    "# 🚨 Don't change the code below 👇\n",
    "print(\"a: \" + a)\n",
    "print(\"b: \" + b)\n"
   ]
  },
  {
   "cell_type": "markdown",
   "id": "6b2bbb5d",
   "metadata": {},
   "source": [
    "* Brand Name Genrator"
   ]
  },
  {
   "cell_type": "code",
   "execution_count": 3,
   "id": "65c41d28",
   "metadata": {},
   "outputs": [
    {
     "name": "stdout",
     "output_type": "stream",
     "text": [
      "Welcome to the Brand Name Generator\n",
      "Which city did you grew up in?\n",
      "Siddhartha\n",
      "What is the most famous thing from your city?\n",
      "Kala Namak Rice\n",
      "Your brand name could be Siddhartha Kala Namak Rice\n"
     ]
    }
   ],
   "source": [
    "print(\"Welcome to the Brand Name Generator\")\n",
    "city = input(\"Which city did you grew up in?\\n\")\n",
    "name = input(\"What is the most famous thing from your city?\\n\")\n",
    "print(\"Your brand name could be \" + city +\" \"+ name)"
   ]
  }
 ],
 "metadata": {
  "kernelspec": {
   "display_name": "Python 3 (ipykernel)",
   "language": "python",
   "name": "python3"
  },
  "language_info": {
   "codemirror_mode": {
    "name": "ipython",
    "version": 3
   },
   "file_extension": ".py",
   "mimetype": "text/x-python",
   "name": "python",
   "nbconvert_exporter": "python",
   "pygments_lexer": "ipython3",
   "version": "3.9.13"
  }
 },
 "nbformat": 4,
 "nbformat_minor": 5
}
